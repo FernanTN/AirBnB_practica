{
  "nbformat": 4,
  "nbformat_minor": 0,
  "metadata": {
    "colab": {
      "name": "airbnb.ipynb",
      "provenance": [],
      "collapsed_sections": [],
      "authorship_tag": "ABX9TyPzUx1RW8rg3UwQoFIGi/M3"
    },
    "kernelspec": {
      "name": "python3",
      "display_name": "Python 3"
    }
  },
  "cells": [
    {
      "cell_type": "markdown",
      "metadata": {
        "id": "W29EGedhBzv6"
      },
      "source": [
        "Cuaderno para resolver problema airbnb"
      ]
    },
    {
      "cell_type": "code",
      "metadata": {
        "id": "33Q0nhAvBo1w",
        "colab": {
          "base_uri": "https://localhost:8080/"
        },
        "outputId": "b44d96c0-42e9-4ece-a0a5-fd22dbd5c1d1"
      },
      "source": [
        "from google.colab import drive\n",
        "drive.mount('/gdrive')"
      ],
      "execution_count": 1,
      "outputs": [
        {
          "output_type": "stream",
          "text": [
            "Mounted at /gdrive\n"
          ],
          "name": "stdout"
        }
      ]
    },
    {
      "cell_type": "code",
      "metadata": {
        "id": "ugAN52vwGJm_"
      },
      "source": [
        "import pandas as pd\n",
        "import numpy as np\n",
        "import matplotlib.pyplot as plt\n",
        "import seaborn as sns\n",
        "from sklearn.model_selection import train_test_split\n",
        "from sklearn.preprocessing import StandardScaler\n",
        "from sklearn.impute import SimpleImputer\n",
        "from sklearn.metrics import mean_squared_error, r2_score\n",
        "\n",
        "from scipy import stats\n",
        "from scipy.stats import norm, skew\n",
        "\n",
        "from sklearn.base import TransformerMixin\n",
        "from sklearn.preprocessing import OneHotEncoder\n",
        "from sklearn.preprocessing import MinMaxScaler\n",
        "from sklearn.preprocessing import PolynomialFeatures\n",
        "from sklearn.decomposition import PCA\n",
        "from sklearn.pipeline import FeatureUnion\n",
        "from sklearn.ensemble import RandomForestRegressor\n",
        "\n",
        "from sklearn.pipeline import Pipeline\n",
        "\n",
        "path = '/gdrive/My Drive/Colab Notebooks/AA/data/'"
      ],
      "execution_count": 2,
      "outputs": []
    },
    {
      "cell_type": "code",
      "metadata": {
        "colab": {
          "base_uri": "https://localhost:8080/",
          "height": 608
        },
        "id": "I7W-m0WbGX79",
        "outputId": "94af92ea-dab3-467a-c10b-63ffa7c6238e"
      },
      "source": [
        "# Hacemos la ingesta del csv\n",
        "df = pd.read_csv(path+'airbnb.csv')\n",
        "\n",
        "# Vemos los primeros datos\n",
        "df.head()"
      ],
      "execution_count": 3,
      "outputs": [
        {
          "output_type": "execute_result",
          "data": {
            "text/html": [
              "<div>\n",
              "<style scoped>\n",
              "    .dataframe tbody tr th:only-of-type {\n",
              "        vertical-align: middle;\n",
              "    }\n",
              "\n",
              "    .dataframe tbody tr th {\n",
              "        vertical-align: top;\n",
              "    }\n",
              "\n",
              "    .dataframe thead th {\n",
              "        text-align: right;\n",
              "    }\n",
              "</style>\n",
              "<table border=\"1\" class=\"dataframe\">\n",
              "  <thead>\n",
              "    <tr style=\"text-align: right;\">\n",
              "      <th></th>\n",
              "      <th>id</th>\n",
              "      <th>listing_url</th>\n",
              "      <th>scrape_id</th>\n",
              "      <th>last_scraped</th>\n",
              "      <th>name</th>\n",
              "      <th>description</th>\n",
              "      <th>neighborhood_overview</th>\n",
              "      <th>picture_url</th>\n",
              "      <th>host_id</th>\n",
              "      <th>host_url</th>\n",
              "      <th>host_name</th>\n",
              "      <th>host_since</th>\n",
              "      <th>host_location</th>\n",
              "      <th>host_about</th>\n",
              "      <th>host_response_time</th>\n",
              "      <th>host_response_rate</th>\n",
              "      <th>host_acceptance_rate</th>\n",
              "      <th>host_is_superhost</th>\n",
              "      <th>host_thumbnail_url</th>\n",
              "      <th>host_picture_url</th>\n",
              "      <th>host_neighbourhood</th>\n",
              "      <th>host_listings_count</th>\n",
              "      <th>host_total_listings_count</th>\n",
              "      <th>host_verifications</th>\n",
              "      <th>host_has_profile_pic</th>\n",
              "      <th>host_identity_verified</th>\n",
              "      <th>neighbourhood</th>\n",
              "      <th>neighbourhood_cleansed</th>\n",
              "      <th>neighbourhood_group_cleansed</th>\n",
              "      <th>latitude</th>\n",
              "      <th>longitude</th>\n",
              "      <th>property_type</th>\n",
              "      <th>room_type</th>\n",
              "      <th>accommodates</th>\n",
              "      <th>bathrooms</th>\n",
              "      <th>bathrooms_text</th>\n",
              "      <th>bedrooms</th>\n",
              "      <th>beds</th>\n",
              "      <th>amenities</th>\n",
              "      <th>price</th>\n",
              "      <th>minimum_nights</th>\n",
              "      <th>maximum_nights</th>\n",
              "      <th>minimum_minimum_nights</th>\n",
              "      <th>maximum_minimum_nights</th>\n",
              "      <th>minimum_maximum_nights</th>\n",
              "      <th>maximum_maximum_nights</th>\n",
              "      <th>minimum_nights_avg_ntm</th>\n",
              "      <th>maximum_nights_avg_ntm</th>\n",
              "      <th>calendar_updated</th>\n",
              "      <th>has_availability</th>\n",
              "      <th>availability_30</th>\n",
              "      <th>availability_60</th>\n",
              "      <th>availability_90</th>\n",
              "      <th>availability_365</th>\n",
              "      <th>calendar_last_scraped</th>\n",
              "      <th>number_of_reviews</th>\n",
              "      <th>number_of_reviews_ltm</th>\n",
              "      <th>number_of_reviews_l30d</th>\n",
              "      <th>first_review</th>\n",
              "      <th>last_review</th>\n",
              "      <th>review_scores_rating</th>\n",
              "      <th>review_scores_accuracy</th>\n",
              "      <th>review_scores_cleanliness</th>\n",
              "      <th>review_scores_checkin</th>\n",
              "      <th>review_scores_communication</th>\n",
              "      <th>review_scores_location</th>\n",
              "      <th>review_scores_value</th>\n",
              "      <th>license</th>\n",
              "      <th>instant_bookable</th>\n",
              "      <th>calculated_host_listings_count</th>\n",
              "      <th>calculated_host_listings_count_entire_homes</th>\n",
              "      <th>calculated_host_listings_count_private_rooms</th>\n",
              "      <th>calculated_host_listings_count_shared_rooms</th>\n",
              "      <th>reviews_per_month</th>\n",
              "    </tr>\n",
              "  </thead>\n",
              "  <tbody>\n",
              "    <tr>\n",
              "      <th>0</th>\n",
              "      <td>11547</td>\n",
              "      <td>https://www.airbnb.com/rooms/11547</td>\n",
              "      <td>20200919153121</td>\n",
              "      <td>2020-09-21</td>\n",
              "      <td>My home at the beach</td>\n",
              "      <td>Sun, joy, relax, quality, beach &amp; peace.&lt;br /&gt;...</td>\n",
              "      <td>NaN</td>\n",
              "      <td>https://a0.muscache.com/pictures/494126/8c151b...</td>\n",
              "      <td>42942</td>\n",
              "      <td>https://www.airbnb.com/users/show/42942</td>\n",
              "      <td>Daniel</td>\n",
              "      <td>2009-10-02</td>\n",
              "      <td>Balearic Islands, Spain</td>\n",
              "      <td>.</td>\n",
              "      <td>within an hour</td>\n",
              "      <td>100%</td>\n",
              "      <td>96%</td>\n",
              "      <td>f</td>\n",
              "      <td>https://a0.muscache.com/im/users/42942/profile...</td>\n",
              "      <td>https://a0.muscache.com/im/users/42942/profile...</td>\n",
              "      <td>NaN</td>\n",
              "      <td>0.0</td>\n",
              "      <td>0.0</td>\n",
              "      <td>['email', 'phone', 'reviews', 'jumio', 'govern...</td>\n",
              "      <td>t</td>\n",
              "      <td>t</td>\n",
              "      <td>NaN</td>\n",
              "      <td>Calvià</td>\n",
              "      <td>NaN</td>\n",
              "      <td>39.51888</td>\n",
              "      <td>2.48182</td>\n",
              "      <td>Entire apartment</td>\n",
              "      <td>Entire home/apt</td>\n",
              "      <td>2</td>\n",
              "      <td>NaN</td>\n",
              "      <td>1 bath</td>\n",
              "      <td>1.0</td>\n",
              "      <td>1.0</td>\n",
              "      <td>[\"Oven\", \"Wifi\", \"Coffee maker\", \"Dishes and s...</td>\n",
              "      <td>$89.00</td>\n",
              "      <td>5</td>\n",
              "      <td>60</td>\n",
              "      <td>5</td>\n",
              "      <td>5</td>\n",
              "      <td>60</td>\n",
              "      <td>60</td>\n",
              "      <td>5.0</td>\n",
              "      <td>60.0</td>\n",
              "      <td>NaN</td>\n",
              "      <td>t</td>\n",
              "      <td>13</td>\n",
              "      <td>43</td>\n",
              "      <td>73</td>\n",
              "      <td>311</td>\n",
              "      <td>2020-09-21</td>\n",
              "      <td>103</td>\n",
              "      <td>8</td>\n",
              "      <td>2</td>\n",
              "      <td>2011-08-23</td>\n",
              "      <td>2020-09-06</td>\n",
              "      <td>96.0</td>\n",
              "      <td>10.0</td>\n",
              "      <td>9.0</td>\n",
              "      <td>10.0</td>\n",
              "      <td>10.0</td>\n",
              "      <td>10.0</td>\n",
              "      <td>10.0</td>\n",
              "      <td>NaN</td>\n",
              "      <td>f</td>\n",
              "      <td>1</td>\n",
              "      <td>1</td>\n",
              "      <td>0</td>\n",
              "      <td>0</td>\n",
              "      <td>0.93</td>\n",
              "    </tr>\n",
              "    <tr>\n",
              "      <th>1</th>\n",
              "      <td>100831</td>\n",
              "      <td>https://www.airbnb.com/rooms/100831</td>\n",
              "      <td>20200919153121</td>\n",
              "      <td>2020-09-21</td>\n",
              "      <td>HOUSE IN MALLORCA - WiFi(ET-3045)</td>\n",
              "      <td>&lt;b&gt;The space&lt;/b&gt;&lt;br /&gt;House situated in a quie...</td>\n",
              "      <td>NaN</td>\n",
              "      <td>https://a0.muscache.com/pictures/675527/72b329...</td>\n",
              "      <td>529151</td>\n",
              "      <td>https://www.airbnb.com/users/show/529151</td>\n",
              "      <td>Miguel</td>\n",
              "      <td>2011-04-23</td>\n",
              "      <td>Mallorca</td>\n",
              "      <td>Somos una pareja con los mismos gustos e inter...</td>\n",
              "      <td>NaN</td>\n",
              "      <td>NaN</td>\n",
              "      <td>100%</td>\n",
              "      <td>f</td>\n",
              "      <td>https://a0.muscache.com/im/users/529151/profil...</td>\n",
              "      <td>https://a0.muscache.com/im/users/529151/profil...</td>\n",
              "      <td>NaN</td>\n",
              "      <td>1.0</td>\n",
              "      <td>1.0</td>\n",
              "      <td>['email', 'phone', 'facebook', 'reviews', 'jum...</td>\n",
              "      <td>t</td>\n",
              "      <td>t</td>\n",
              "      <td>NaN</td>\n",
              "      <td>Santa Margalida</td>\n",
              "      <td>NaN</td>\n",
              "      <td>39.76347</td>\n",
              "      <td>3.16255</td>\n",
              "      <td>Entire house</td>\n",
              "      <td>Entire home/apt</td>\n",
              "      <td>8</td>\n",
              "      <td>NaN</td>\n",
              "      <td>3 baths</td>\n",
              "      <td>4.0</td>\n",
              "      <td>7.0</td>\n",
              "      <td>[\"First aid kit\", \"Hair dryer\", \"Iron\", \"Washe...</td>\n",
              "      <td>$175.00</td>\n",
              "      <td>7</td>\n",
              "      <td>365</td>\n",
              "      <td>7</td>\n",
              "      <td>7</td>\n",
              "      <td>1125</td>\n",
              "      <td>1125</td>\n",
              "      <td>7.0</td>\n",
              "      <td>1125.0</td>\n",
              "      <td>NaN</td>\n",
              "      <td>t</td>\n",
              "      <td>0</td>\n",
              "      <td>0</td>\n",
              "      <td>0</td>\n",
              "      <td>0</td>\n",
              "      <td>2020-09-21</td>\n",
              "      <td>30</td>\n",
              "      <td>13</td>\n",
              "      <td>0</td>\n",
              "      <td>2019-01-18</td>\n",
              "      <td>2020-01-25</td>\n",
              "      <td>100.0</td>\n",
              "      <td>10.0</td>\n",
              "      <td>10.0</td>\n",
              "      <td>10.0</td>\n",
              "      <td>10.0</td>\n",
              "      <td>10.0</td>\n",
              "      <td>10.0</td>\n",
              "      <td>ETV-3045</td>\n",
              "      <td>t</td>\n",
              "      <td>1</td>\n",
              "      <td>1</td>\n",
              "      <td>0</td>\n",
              "      <td>0</td>\n",
              "      <td>1.47</td>\n",
              "    </tr>\n",
              "    <tr>\n",
              "      <th>2</th>\n",
              "      <td>105891</td>\n",
              "      <td>https://www.airbnb.com/rooms/105891</td>\n",
              "      <td>20200919153121</td>\n",
              "      <td>2020-09-20</td>\n",
              "      <td>VILLAGE HOUSE WITH POOL: IDEAL FOR FAMILIES</td>\n",
              "      <td>The house is a street on the outskirts of the ...</td>\n",
              "      <td>The village's population does not reach two th...</td>\n",
              "      <td>https://a0.muscache.com/pictures/1036816/f36ce...</td>\n",
              "      <td>549192</td>\n",
              "      <td>https://www.airbnb.com/users/show/549192</td>\n",
              "      <td>Bartomeu</td>\n",
              "      <td>2011-05-01</td>\n",
              "      <td>Ariany, Balearic Islands, Spain</td>\n",
              "      <td>Hola!. Resido en una casa de campo de un puebl...</td>\n",
              "      <td>within a few hours</td>\n",
              "      <td>100%</td>\n",
              "      <td>83%</td>\n",
              "      <td>t</td>\n",
              "      <td>https://a0.muscache.com/im/users/549192/profil...</td>\n",
              "      <td>https://a0.muscache.com/im/users/549192/profil...</td>\n",
              "      <td>NaN</td>\n",
              "      <td>2.0</td>\n",
              "      <td>2.0</td>\n",
              "      <td>['email', 'phone', 'facebook', 'reviews', 'jum...</td>\n",
              "      <td>t</td>\n",
              "      <td>t</td>\n",
              "      <td>Maria de la Salut, Balearic Islands, Spain</td>\n",
              "      <td>Maria de la Salut</td>\n",
              "      <td>NaN</td>\n",
              "      <td>39.66044</td>\n",
              "      <td>3.07165</td>\n",
              "      <td>Entire townhouse</td>\n",
              "      <td>Entire home/apt</td>\n",
              "      <td>6</td>\n",
              "      <td>NaN</td>\n",
              "      <td>2 baths</td>\n",
              "      <td>3.0</td>\n",
              "      <td>4.0</td>\n",
              "      <td>[\"Smoke alarm\", \"Oven\", \"Wifi\", \"Garden or bac...</td>\n",
              "      <td>$140.00</td>\n",
              "      <td>6</td>\n",
              "      <td>365</td>\n",
              "      <td>6</td>\n",
              "      <td>6</td>\n",
              "      <td>365</td>\n",
              "      <td>365</td>\n",
              "      <td>6.0</td>\n",
              "      <td>365.0</td>\n",
              "      <td>NaN</td>\n",
              "      <td>t</td>\n",
              "      <td>23</td>\n",
              "      <td>53</td>\n",
              "      <td>83</td>\n",
              "      <td>325</td>\n",
              "      <td>2020-09-20</td>\n",
              "      <td>14</td>\n",
              "      <td>0</td>\n",
              "      <td>0</td>\n",
              "      <td>2012-06-19</td>\n",
              "      <td>2019-09-03</td>\n",
              "      <td>97.0</td>\n",
              "      <td>10.0</td>\n",
              "      <td>10.0</td>\n",
              "      <td>10.0</td>\n",
              "      <td>10.0</td>\n",
              "      <td>9.0</td>\n",
              "      <td>10.0</td>\n",
              "      <td>ETV/6127</td>\n",
              "      <td>t</td>\n",
              "      <td>2</td>\n",
              "      <td>2</td>\n",
              "      <td>0</td>\n",
              "      <td>0</td>\n",
              "      <td>0.14</td>\n",
              "    </tr>\n",
              "    <tr>\n",
              "      <th>3</th>\n",
              "      <td>106833</td>\n",
              "      <td>https://www.airbnb.com/rooms/106833</td>\n",
              "      <td>20200919153121</td>\n",
              "      <td>2020-09-20</td>\n",
              "      <td>Villa with a big pool in Mallorca</td>\n",
              "      <td>&lt;b&gt;The space&lt;/b&gt;&lt;br /&gt;This is a restored old b...</td>\n",
              "      <td>NaN</td>\n",
              "      <td>https://a0.muscache.com/pictures/710218/98134c...</td>\n",
              "      <td>551974</td>\n",
              "      <td>https://www.airbnb.com/users/show/551974</td>\n",
              "      <td>Xisco</td>\n",
              "      <td>2011-05-02</td>\n",
              "      <td>Palma de Mallorca, Balearic Islands, Spain</td>\n",
              "      <td>I'm Xisco. I love Mallorcan way of life.</td>\n",
              "      <td>within a day</td>\n",
              "      <td>100%</td>\n",
              "      <td>NaN</td>\n",
              "      <td>f</td>\n",
              "      <td>https://a0.muscache.com/im/users/551974/profil...</td>\n",
              "      <td>https://a0.muscache.com/im/users/551974/profil...</td>\n",
              "      <td>NaN</td>\n",
              "      <td>1.0</td>\n",
              "      <td>1.0</td>\n",
              "      <td>['email', 'phone', 'reviews', 'jumio', 'offlin...</td>\n",
              "      <td>t</td>\n",
              "      <td>t</td>\n",
              "      <td>NaN</td>\n",
              "      <td>Sant Llorenç des Cardassar</td>\n",
              "      <td>NaN</td>\n",
              "      <td>39.61600</td>\n",
              "      <td>3.30121</td>\n",
              "      <td>Entire villa</td>\n",
              "      <td>Entire home/apt</td>\n",
              "      <td>4</td>\n",
              "      <td>NaN</td>\n",
              "      <td>1 bath</td>\n",
              "      <td>2.0</td>\n",
              "      <td>4.0</td>\n",
              "      <td>[\"Pool\", \"Free parking on premises\", \"Air cond...</td>\n",
              "      <td>$200.00</td>\n",
              "      <td>5</td>\n",
              "      <td>365</td>\n",
              "      <td>5</td>\n",
              "      <td>5</td>\n",
              "      <td>365</td>\n",
              "      <td>365</td>\n",
              "      <td>5.0</td>\n",
              "      <td>365.0</td>\n",
              "      <td>NaN</td>\n",
              "      <td>t</td>\n",
              "      <td>20</td>\n",
              "      <td>50</td>\n",
              "      <td>80</td>\n",
              "      <td>355</td>\n",
              "      <td>2020-09-20</td>\n",
              "      <td>9</td>\n",
              "      <td>0</td>\n",
              "      <td>0</td>\n",
              "      <td>2012-06-05</td>\n",
              "      <td>2018-08-13</td>\n",
              "      <td>98.0</td>\n",
              "      <td>10.0</td>\n",
              "      <td>10.0</td>\n",
              "      <td>10.0</td>\n",
              "      <td>10.0</td>\n",
              "      <td>9.0</td>\n",
              "      <td>9.0</td>\n",
              "      <td>ET/1961</td>\n",
              "      <td>f</td>\n",
              "      <td>1</td>\n",
              "      <td>1</td>\n",
              "      <td>0</td>\n",
              "      <td>0</td>\n",
              "      <td>0.09</td>\n",
              "    </tr>\n",
              "    <tr>\n",
              "      <th>4</th>\n",
              "      <td>130669</td>\n",
              "      <td>https://www.airbnb.com/rooms/130669</td>\n",
              "      <td>20200919153121</td>\n",
              "      <td>2020-09-20</td>\n",
              "      <td>Room great apartment</td>\n",
              "      <td>Located in a residential neighbourhood and 10m...</td>\n",
              "      <td>Located in the center of the city, within minu...</td>\n",
              "      <td>https://a0.muscache.com/pictures/866653/58dc48...</td>\n",
              "      <td>643065</td>\n",
              "      <td>https://www.airbnb.com/users/show/643065</td>\n",
              "      <td>Nick</td>\n",
              "      <td>2011-05-30</td>\n",
              "      <td>Palma de Mallorca, Balearic Islands, Spain</td>\n",
              "      <td>NaN</td>\n",
              "      <td>within a day</td>\n",
              "      <td>100%</td>\n",
              "      <td>NaN</td>\n",
              "      <td>f</td>\n",
              "      <td>https://a0.muscache.com/im/users/643065/profil...</td>\n",
              "      <td>https://a0.muscache.com/im/users/643065/profil...</td>\n",
              "      <td>NaN</td>\n",
              "      <td>3.0</td>\n",
              "      <td>3.0</td>\n",
              "      <td>['email', 'phone', 'reviews']</td>\n",
              "      <td>t</td>\n",
              "      <td>f</td>\n",
              "      <td>Palma de Mallorca, PM, Spain</td>\n",
              "      <td>Palma de Mallorca</td>\n",
              "      <td>NaN</td>\n",
              "      <td>39.56478</td>\n",
              "      <td>2.60333</td>\n",
              "      <td>Private room in apartment</td>\n",
              "      <td>Private room</td>\n",
              "      <td>2</td>\n",
              "      <td>NaN</td>\n",
              "      <td>1 bath</td>\n",
              "      <td>1.0</td>\n",
              "      <td>2.0</td>\n",
              "      <td>[\"Pool\", \"Washer\", \"Air conditioning\", \"Kitche...</td>\n",
              "      <td>$110.00</td>\n",
              "      <td>2</td>\n",
              "      <td>365</td>\n",
              "      <td>2</td>\n",
              "      <td>2</td>\n",
              "      <td>365</td>\n",
              "      <td>365</td>\n",
              "      <td>2.0</td>\n",
              "      <td>365.0</td>\n",
              "      <td>NaN</td>\n",
              "      <td>t</td>\n",
              "      <td>30</td>\n",
              "      <td>60</td>\n",
              "      <td>90</td>\n",
              "      <td>365</td>\n",
              "      <td>2020-09-20</td>\n",
              "      <td>0</td>\n",
              "      <td>0</td>\n",
              "      <td>0</td>\n",
              "      <td>NaN</td>\n",
              "      <td>NaN</td>\n",
              "      <td>NaN</td>\n",
              "      <td>NaN</td>\n",
              "      <td>NaN</td>\n",
              "      <td>NaN</td>\n",
              "      <td>NaN</td>\n",
              "      <td>NaN</td>\n",
              "      <td>NaN</td>\n",
              "      <td>NaN</td>\n",
              "      <td>t</td>\n",
              "      <td>2</td>\n",
              "      <td>0</td>\n",
              "      <td>2</td>\n",
              "      <td>0</td>\n",
              "      <td>NaN</td>\n",
              "    </tr>\n",
              "  </tbody>\n",
              "</table>\n",
              "</div>"
            ],
            "text/plain": [
              "       id  ... reviews_per_month\n",
              "0   11547  ...              0.93\n",
              "1  100831  ...              1.47\n",
              "2  105891  ...              0.14\n",
              "3  106833  ...              0.09\n",
              "4  130669  ...               NaN\n",
              "\n",
              "[5 rows x 74 columns]"
            ]
          },
          "metadata": {
            "tags": []
          },
          "execution_count": 3
        }
      ]
    },
    {
      "cell_type": "code",
      "metadata": {
        "colab": {
          "base_uri": "https://localhost:8080/",
          "height": 206
        },
        "id": "nP5McIcPBYYJ",
        "outputId": "0541cf6f-1c52-4ef1-9589-f0a085766003"
      },
      "source": [
        "# Guardamos las características relevantes para resolución del problema\n",
        "X = df[['neighbourhood_cleansed', 'latitude', 'longitude', 'property_type', 'room_type', 'accommodates', 'bathrooms', 'bathrooms_text', 'bedrooms', 'amenities']]\n",
        "y = df['price']\n",
        "\n",
        "# Vemos los primeros datos\n",
        "X.head()"
      ],
      "execution_count": 4,
      "outputs": [
        {
          "output_type": "execute_result",
          "data": {
            "text/html": [
              "<div>\n",
              "<style scoped>\n",
              "    .dataframe tbody tr th:only-of-type {\n",
              "        vertical-align: middle;\n",
              "    }\n",
              "\n",
              "    .dataframe tbody tr th {\n",
              "        vertical-align: top;\n",
              "    }\n",
              "\n",
              "    .dataframe thead th {\n",
              "        text-align: right;\n",
              "    }\n",
              "</style>\n",
              "<table border=\"1\" class=\"dataframe\">\n",
              "  <thead>\n",
              "    <tr style=\"text-align: right;\">\n",
              "      <th></th>\n",
              "      <th>neighbourhood_cleansed</th>\n",
              "      <th>latitude</th>\n",
              "      <th>longitude</th>\n",
              "      <th>property_type</th>\n",
              "      <th>room_type</th>\n",
              "      <th>accommodates</th>\n",
              "      <th>bathrooms</th>\n",
              "      <th>bathrooms_text</th>\n",
              "      <th>bedrooms</th>\n",
              "      <th>amenities</th>\n",
              "    </tr>\n",
              "  </thead>\n",
              "  <tbody>\n",
              "    <tr>\n",
              "      <th>0</th>\n",
              "      <td>Calvià</td>\n",
              "      <td>39.51888</td>\n",
              "      <td>2.48182</td>\n",
              "      <td>Entire apartment</td>\n",
              "      <td>Entire home/apt</td>\n",
              "      <td>2</td>\n",
              "      <td>NaN</td>\n",
              "      <td>1 bath</td>\n",
              "      <td>1.0</td>\n",
              "      <td>[\"Oven\", \"Wifi\", \"Coffee maker\", \"Dishes and s...</td>\n",
              "    </tr>\n",
              "    <tr>\n",
              "      <th>1</th>\n",
              "      <td>Santa Margalida</td>\n",
              "      <td>39.76347</td>\n",
              "      <td>3.16255</td>\n",
              "      <td>Entire house</td>\n",
              "      <td>Entire home/apt</td>\n",
              "      <td>8</td>\n",
              "      <td>NaN</td>\n",
              "      <td>3 baths</td>\n",
              "      <td>4.0</td>\n",
              "      <td>[\"First aid kit\", \"Hair dryer\", \"Iron\", \"Washe...</td>\n",
              "    </tr>\n",
              "    <tr>\n",
              "      <th>2</th>\n",
              "      <td>Maria de la Salut</td>\n",
              "      <td>39.66044</td>\n",
              "      <td>3.07165</td>\n",
              "      <td>Entire townhouse</td>\n",
              "      <td>Entire home/apt</td>\n",
              "      <td>6</td>\n",
              "      <td>NaN</td>\n",
              "      <td>2 baths</td>\n",
              "      <td>3.0</td>\n",
              "      <td>[\"Smoke alarm\", \"Oven\", \"Wifi\", \"Garden or bac...</td>\n",
              "    </tr>\n",
              "    <tr>\n",
              "      <th>3</th>\n",
              "      <td>Sant Llorenç des Cardassar</td>\n",
              "      <td>39.61600</td>\n",
              "      <td>3.30121</td>\n",
              "      <td>Entire villa</td>\n",
              "      <td>Entire home/apt</td>\n",
              "      <td>4</td>\n",
              "      <td>NaN</td>\n",
              "      <td>1 bath</td>\n",
              "      <td>2.0</td>\n",
              "      <td>[\"Pool\", \"Free parking on premises\", \"Air cond...</td>\n",
              "    </tr>\n",
              "    <tr>\n",
              "      <th>4</th>\n",
              "      <td>Palma de Mallorca</td>\n",
              "      <td>39.56478</td>\n",
              "      <td>2.60333</td>\n",
              "      <td>Private room in apartment</td>\n",
              "      <td>Private room</td>\n",
              "      <td>2</td>\n",
              "      <td>NaN</td>\n",
              "      <td>1 bath</td>\n",
              "      <td>1.0</td>\n",
              "      <td>[\"Pool\", \"Washer\", \"Air conditioning\", \"Kitche...</td>\n",
              "    </tr>\n",
              "  </tbody>\n",
              "</table>\n",
              "</div>"
            ],
            "text/plain": [
              "       neighbourhood_cleansed  ...                                          amenities\n",
              "0                      Calvià  ...  [\"Oven\", \"Wifi\", \"Coffee maker\", \"Dishes and s...\n",
              "1             Santa Margalida  ...  [\"First aid kit\", \"Hair dryer\", \"Iron\", \"Washe...\n",
              "2           Maria de la Salut  ...  [\"Smoke alarm\", \"Oven\", \"Wifi\", \"Garden or bac...\n",
              "3  Sant Llorenç des Cardassar  ...  [\"Pool\", \"Free parking on premises\", \"Air cond...\n",
              "4           Palma de Mallorca  ...  [\"Pool\", \"Washer\", \"Air conditioning\", \"Kitche...\n",
              "\n",
              "[5 rows x 10 columns]"
            ]
          },
          "metadata": {
            "tags": []
          },
          "execution_count": 4
        }
      ]
    },
    {
      "cell_type": "code",
      "metadata": {
        "colab": {
          "base_uri": "https://localhost:8080/",
          "height": 300
        },
        "id": "3QnsKuzjKEyH",
        "outputId": "a4c5757e-53b2-448f-e490-325598f10277"
      },
      "source": [
        "X.describe()"
      ],
      "execution_count": 5,
      "outputs": [
        {
          "output_type": "execute_result",
          "data": {
            "text/html": [
              "<div>\n",
              "<style scoped>\n",
              "    .dataframe tbody tr th:only-of-type {\n",
              "        vertical-align: middle;\n",
              "    }\n",
              "\n",
              "    .dataframe tbody tr th {\n",
              "        vertical-align: top;\n",
              "    }\n",
              "\n",
              "    .dataframe thead th {\n",
              "        text-align: right;\n",
              "    }\n",
              "</style>\n",
              "<table border=\"1\" class=\"dataframe\">\n",
              "  <thead>\n",
              "    <tr style=\"text-align: right;\">\n",
              "      <th></th>\n",
              "      <th>latitude</th>\n",
              "      <th>longitude</th>\n",
              "      <th>accommodates</th>\n",
              "      <th>bathrooms</th>\n",
              "      <th>bedrooms</th>\n",
              "    </tr>\n",
              "  </thead>\n",
              "  <tbody>\n",
              "    <tr>\n",
              "      <th>count</th>\n",
              "      <td>17608.000000</td>\n",
              "      <td>17608.000000</td>\n",
              "      <td>17608.000000</td>\n",
              "      <td>0.0</td>\n",
              "      <td>17333.000000</td>\n",
              "    </tr>\n",
              "    <tr>\n",
              "      <th>mean</th>\n",
              "      <td>39.657597</td>\n",
              "      <td>2.994115</td>\n",
              "      <td>5.857962</td>\n",
              "      <td>NaN</td>\n",
              "      <td>2.952980</td>\n",
              "    </tr>\n",
              "    <tr>\n",
              "      <th>std</th>\n",
              "      <td>0.165577</td>\n",
              "      <td>0.246129</td>\n",
              "      <td>2.727737</td>\n",
              "      <td>NaN</td>\n",
              "      <td>1.520433</td>\n",
              "    </tr>\n",
              "    <tr>\n",
              "      <th>min</th>\n",
              "      <td>39.301970</td>\n",
              "      <td>2.346500</td>\n",
              "      <td>0.000000</td>\n",
              "      <td>NaN</td>\n",
              "      <td>1.000000</td>\n",
              "    </tr>\n",
              "    <tr>\n",
              "      <th>25%</th>\n",
              "      <td>39.543433</td>\n",
              "      <td>2.796892</td>\n",
              "      <td>4.000000</td>\n",
              "      <td>NaN</td>\n",
              "      <td>2.000000</td>\n",
              "    </tr>\n",
              "    <tr>\n",
              "      <th>50%</th>\n",
              "      <td>39.670285</td>\n",
              "      <td>3.047310</td>\n",
              "      <td>6.000000</td>\n",
              "      <td>NaN</td>\n",
              "      <td>3.000000</td>\n",
              "    </tr>\n",
              "    <tr>\n",
              "      <th>75%</th>\n",
              "      <td>39.797413</td>\n",
              "      <td>3.145215</td>\n",
              "      <td>8.000000</td>\n",
              "      <td>NaN</td>\n",
              "      <td>4.000000</td>\n",
              "    </tr>\n",
              "    <tr>\n",
              "      <th>max</th>\n",
              "      <td>39.930650</td>\n",
              "      <td>3.475520</td>\n",
              "      <td>16.000000</td>\n",
              "      <td>NaN</td>\n",
              "      <td>40.000000</td>\n",
              "    </tr>\n",
              "  </tbody>\n",
              "</table>\n",
              "</div>"
            ],
            "text/plain": [
              "           latitude     longitude  accommodates  bathrooms      bedrooms\n",
              "count  17608.000000  17608.000000  17608.000000        0.0  17333.000000\n",
              "mean      39.657597      2.994115      5.857962        NaN      2.952980\n",
              "std        0.165577      0.246129      2.727737        NaN      1.520433\n",
              "min       39.301970      2.346500      0.000000        NaN      1.000000\n",
              "25%       39.543433      2.796892      4.000000        NaN      2.000000\n",
              "50%       39.670285      3.047310      6.000000        NaN      3.000000\n",
              "75%       39.797413      3.145215      8.000000        NaN      4.000000\n",
              "max       39.930650      3.475520     16.000000        NaN     40.000000"
            ]
          },
          "metadata": {
            "tags": []
          },
          "execution_count": 5
        }
      ]
    },
    {
      "cell_type": "code",
      "metadata": {
        "colab": {
          "base_uri": "https://localhost:8080/",
          "height": 175
        },
        "id": "_nY_n1Z_b48M",
        "outputId": "3bfc0daf-9be9-4d86-8086-7d32dafbc86f"
      },
      "source": [
        "X.describe(include = [\"O\"])"
      ],
      "execution_count": 6,
      "outputs": [
        {
          "output_type": "execute_result",
          "data": {
            "text/html": [
              "<div>\n",
              "<style scoped>\n",
              "    .dataframe tbody tr th:only-of-type {\n",
              "        vertical-align: middle;\n",
              "    }\n",
              "\n",
              "    .dataframe tbody tr th {\n",
              "        vertical-align: top;\n",
              "    }\n",
              "\n",
              "    .dataframe thead th {\n",
              "        text-align: right;\n",
              "    }\n",
              "</style>\n",
              "<table border=\"1\" class=\"dataframe\">\n",
              "  <thead>\n",
              "    <tr style=\"text-align: right;\">\n",
              "      <th></th>\n",
              "      <th>neighbourhood_cleansed</th>\n",
              "      <th>property_type</th>\n",
              "      <th>room_type</th>\n",
              "      <th>bathrooms_text</th>\n",
              "      <th>amenities</th>\n",
              "    </tr>\n",
              "  </thead>\n",
              "  <tbody>\n",
              "    <tr>\n",
              "      <th>count</th>\n",
              "      <td>17608</td>\n",
              "      <td>17608</td>\n",
              "      <td>17608</td>\n",
              "      <td>17600</td>\n",
              "      <td>17608</td>\n",
              "    </tr>\n",
              "    <tr>\n",
              "      <th>unique</th>\n",
              "      <td>53</td>\n",
              "      <td>74</td>\n",
              "      <td>4</td>\n",
              "      <td>42</td>\n",
              "      <td>15441</td>\n",
              "    </tr>\n",
              "    <tr>\n",
              "      <th>top</th>\n",
              "      <td>Pollença</td>\n",
              "      <td>Entire villa</td>\n",
              "      <td>Entire home/apt</td>\n",
              "      <td>2 baths</td>\n",
              "      <td>[]</td>\n",
              "    </tr>\n",
              "    <tr>\n",
              "      <th>freq</th>\n",
              "      <td>2268</td>\n",
              "      <td>4878</td>\n",
              "      <td>15770</td>\n",
              "      <td>5515</td>\n",
              "      <td>34</td>\n",
              "    </tr>\n",
              "  </tbody>\n",
              "</table>\n",
              "</div>"
            ],
            "text/plain": [
              "       neighbourhood_cleansed property_type  ... bathrooms_text amenities\n",
              "count                   17608         17608  ...          17600     17608\n",
              "unique                     53            74  ...             42     15441\n",
              "top                  Pollença  Entire villa  ...        2 baths        []\n",
              "freq                     2268          4878  ...           5515        34\n",
              "\n",
              "[4 rows x 5 columns]"
            ]
          },
          "metadata": {
            "tags": []
          },
          "execution_count": 6
        }
      ]
    },
    {
      "cell_type": "code",
      "metadata": {
        "colab": {
          "base_uri": "https://localhost:8080/"
        },
        "id": "DPNExDnsFarc",
        "outputId": "b6023a1a-ff59-4cde-fc8a-9c97726cb8f3"
      },
      "source": [
        "# Vemos el precio como está constituido\n",
        "y.head()"
      ],
      "execution_count": 7,
      "outputs": [
        {
          "output_type": "execute_result",
          "data": {
            "text/plain": [
              "0     $89.00\n",
              "1    $175.00\n",
              "2    $140.00\n",
              "3    $200.00\n",
              "4    $110.00\n",
              "Name: price, dtype: object"
            ]
          },
          "metadata": {
            "tags": []
          },
          "execution_count": 7
        }
      ]
    },
    {
      "cell_type": "code",
      "metadata": {
        "id": "XCJ0A7PRScvR"
      },
      "source": [
        "# Vemos que el precio está constituido por un string que contiene el símbolo del dollar\n",
        "# Para poderlo tratar, primero vamos a quitar el símbolo del dollar y después transformarlo en float \n",
        "y = y.apply(lambda x: x.replace('$','')).apply(lambda x: x.replace(',','')).astype(float)"
      ],
      "execution_count": 8,
      "outputs": []
    },
    {
      "cell_type": "code",
      "metadata": {
        "colab": {
          "base_uri": "https://localhost:8080/",
          "height": 206
        },
        "id": "w4XpYZOr-aYv",
        "outputId": "9c3775d3-0e6a-450a-e1df-e0d80fe67d2e"
      },
      "source": [
        "# Se añade la columna de price, después de haber sido transformada\n",
        "X = X.assign(price = y) \n",
        "\n",
        "X.head()"
      ],
      "execution_count": 9,
      "outputs": [
        {
          "output_type": "execute_result",
          "data": {
            "text/html": [
              "<div>\n",
              "<style scoped>\n",
              "    .dataframe tbody tr th:only-of-type {\n",
              "        vertical-align: middle;\n",
              "    }\n",
              "\n",
              "    .dataframe tbody tr th {\n",
              "        vertical-align: top;\n",
              "    }\n",
              "\n",
              "    .dataframe thead th {\n",
              "        text-align: right;\n",
              "    }\n",
              "</style>\n",
              "<table border=\"1\" class=\"dataframe\">\n",
              "  <thead>\n",
              "    <tr style=\"text-align: right;\">\n",
              "      <th></th>\n",
              "      <th>neighbourhood_cleansed</th>\n",
              "      <th>latitude</th>\n",
              "      <th>longitude</th>\n",
              "      <th>property_type</th>\n",
              "      <th>room_type</th>\n",
              "      <th>accommodates</th>\n",
              "      <th>bathrooms</th>\n",
              "      <th>bathrooms_text</th>\n",
              "      <th>bedrooms</th>\n",
              "      <th>amenities</th>\n",
              "      <th>price</th>\n",
              "    </tr>\n",
              "  </thead>\n",
              "  <tbody>\n",
              "    <tr>\n",
              "      <th>0</th>\n",
              "      <td>Calvià</td>\n",
              "      <td>39.51888</td>\n",
              "      <td>2.48182</td>\n",
              "      <td>Entire apartment</td>\n",
              "      <td>Entire home/apt</td>\n",
              "      <td>2</td>\n",
              "      <td>NaN</td>\n",
              "      <td>1 bath</td>\n",
              "      <td>1.0</td>\n",
              "      <td>[\"Oven\", \"Wifi\", \"Coffee maker\", \"Dishes and s...</td>\n",
              "      <td>89.0</td>\n",
              "    </tr>\n",
              "    <tr>\n",
              "      <th>1</th>\n",
              "      <td>Santa Margalida</td>\n",
              "      <td>39.76347</td>\n",
              "      <td>3.16255</td>\n",
              "      <td>Entire house</td>\n",
              "      <td>Entire home/apt</td>\n",
              "      <td>8</td>\n",
              "      <td>NaN</td>\n",
              "      <td>3 baths</td>\n",
              "      <td>4.0</td>\n",
              "      <td>[\"First aid kit\", \"Hair dryer\", \"Iron\", \"Washe...</td>\n",
              "      <td>175.0</td>\n",
              "    </tr>\n",
              "    <tr>\n",
              "      <th>2</th>\n",
              "      <td>Maria de la Salut</td>\n",
              "      <td>39.66044</td>\n",
              "      <td>3.07165</td>\n",
              "      <td>Entire townhouse</td>\n",
              "      <td>Entire home/apt</td>\n",
              "      <td>6</td>\n",
              "      <td>NaN</td>\n",
              "      <td>2 baths</td>\n",
              "      <td>3.0</td>\n",
              "      <td>[\"Smoke alarm\", \"Oven\", \"Wifi\", \"Garden or bac...</td>\n",
              "      <td>140.0</td>\n",
              "    </tr>\n",
              "    <tr>\n",
              "      <th>3</th>\n",
              "      <td>Sant Llorenç des Cardassar</td>\n",
              "      <td>39.61600</td>\n",
              "      <td>3.30121</td>\n",
              "      <td>Entire villa</td>\n",
              "      <td>Entire home/apt</td>\n",
              "      <td>4</td>\n",
              "      <td>NaN</td>\n",
              "      <td>1 bath</td>\n",
              "      <td>2.0</td>\n",
              "      <td>[\"Pool\", \"Free parking on premises\", \"Air cond...</td>\n",
              "      <td>200.0</td>\n",
              "    </tr>\n",
              "    <tr>\n",
              "      <th>4</th>\n",
              "      <td>Palma de Mallorca</td>\n",
              "      <td>39.56478</td>\n",
              "      <td>2.60333</td>\n",
              "      <td>Private room in apartment</td>\n",
              "      <td>Private room</td>\n",
              "      <td>2</td>\n",
              "      <td>NaN</td>\n",
              "      <td>1 bath</td>\n",
              "      <td>1.0</td>\n",
              "      <td>[\"Pool\", \"Washer\", \"Air conditioning\", \"Kitche...</td>\n",
              "      <td>110.0</td>\n",
              "    </tr>\n",
              "  </tbody>\n",
              "</table>\n",
              "</div>"
            ],
            "text/plain": [
              "       neighbourhood_cleansed  ...  price\n",
              "0                      Calvià  ...   89.0\n",
              "1             Santa Margalida  ...  175.0\n",
              "2           Maria de la Salut  ...  140.0\n",
              "3  Sant Llorenç des Cardassar  ...  200.0\n",
              "4           Palma de Mallorca  ...  110.0\n",
              "\n",
              "[5 rows x 11 columns]"
            ]
          },
          "metadata": {
            "tags": []
          },
          "execution_count": 9
        }
      ]
    },
    {
      "cell_type": "code",
      "metadata": {
        "colab": {
          "base_uri": "https://localhost:8080/",
          "height": 394
        },
        "id": "CTU8lb4gJZpm",
        "outputId": "7e025712-aa71-4f95-cafd-ef9767f909b2"
      },
      "source": [
        "# Miramos los nulls y el porcentaje\n",
        "total = X.isnull().sum().sort_values(ascending=False)\n",
        "percent = (X.isnull().sum()/X.isnull().count()).sort_values(ascending=False)\n",
        "missing_data = pd.concat([total, percent], axis=1, keys=['Total', 'Percent'])\n",
        "missing_data.head(20)"
      ],
      "execution_count": 10,
      "outputs": [
        {
          "output_type": "execute_result",
          "data": {
            "text/html": [
              "<div>\n",
              "<style scoped>\n",
              "    .dataframe tbody tr th:only-of-type {\n",
              "        vertical-align: middle;\n",
              "    }\n",
              "\n",
              "    .dataframe tbody tr th {\n",
              "        vertical-align: top;\n",
              "    }\n",
              "\n",
              "    .dataframe thead th {\n",
              "        text-align: right;\n",
              "    }\n",
              "</style>\n",
              "<table border=\"1\" class=\"dataframe\">\n",
              "  <thead>\n",
              "    <tr style=\"text-align: right;\">\n",
              "      <th></th>\n",
              "      <th>Total</th>\n",
              "      <th>Percent</th>\n",
              "    </tr>\n",
              "  </thead>\n",
              "  <tbody>\n",
              "    <tr>\n",
              "      <th>bathrooms</th>\n",
              "      <td>17608</td>\n",
              "      <td>1.000000</td>\n",
              "    </tr>\n",
              "    <tr>\n",
              "      <th>bedrooms</th>\n",
              "      <td>275</td>\n",
              "      <td>0.015618</td>\n",
              "    </tr>\n",
              "    <tr>\n",
              "      <th>bathrooms_text</th>\n",
              "      <td>8</td>\n",
              "      <td>0.000454</td>\n",
              "    </tr>\n",
              "    <tr>\n",
              "      <th>price</th>\n",
              "      <td>0</td>\n",
              "      <td>0.000000</td>\n",
              "    </tr>\n",
              "    <tr>\n",
              "      <th>amenities</th>\n",
              "      <td>0</td>\n",
              "      <td>0.000000</td>\n",
              "    </tr>\n",
              "    <tr>\n",
              "      <th>accommodates</th>\n",
              "      <td>0</td>\n",
              "      <td>0.000000</td>\n",
              "    </tr>\n",
              "    <tr>\n",
              "      <th>room_type</th>\n",
              "      <td>0</td>\n",
              "      <td>0.000000</td>\n",
              "    </tr>\n",
              "    <tr>\n",
              "      <th>property_type</th>\n",
              "      <td>0</td>\n",
              "      <td>0.000000</td>\n",
              "    </tr>\n",
              "    <tr>\n",
              "      <th>longitude</th>\n",
              "      <td>0</td>\n",
              "      <td>0.000000</td>\n",
              "    </tr>\n",
              "    <tr>\n",
              "      <th>latitude</th>\n",
              "      <td>0</td>\n",
              "      <td>0.000000</td>\n",
              "    </tr>\n",
              "    <tr>\n",
              "      <th>neighbourhood_cleansed</th>\n",
              "      <td>0</td>\n",
              "      <td>0.000000</td>\n",
              "    </tr>\n",
              "  </tbody>\n",
              "</table>\n",
              "</div>"
            ],
            "text/plain": [
              "                        Total   Percent\n",
              "bathrooms               17608  1.000000\n",
              "bedrooms                  275  0.015618\n",
              "bathrooms_text              8  0.000454\n",
              "price                       0  0.000000\n",
              "amenities                   0  0.000000\n",
              "accommodates                0  0.000000\n",
              "room_type                   0  0.000000\n",
              "property_type               0  0.000000\n",
              "longitude                   0  0.000000\n",
              "latitude                    0  0.000000\n",
              "neighbourhood_cleansed      0  0.000000"
            ]
          },
          "metadata": {
            "tags": []
          },
          "execution_count": 10
        }
      ]
    },
    {
      "cell_type": "code",
      "metadata": {
        "id": "uhVyXN9XJmoC"
      },
      "source": [
        "# Los null los tratamos como si no tuevieran baño\n",
        "X['bathrooms_text'] = X['bathrooms_text'].fillna('0 bath')\n",
        "X.loc[:,'bathrooms'] = X['bathrooms_text'].apply(lambda x: 0.5 if 'half-bath' in x.lower() else float(x.split()[0]))"
      ],
      "execution_count": 11,
      "outputs": []
    },
    {
      "cell_type": "code",
      "metadata": {
        "id": "inyBpiUuJmdR"
      },
      "source": [
        "# Los null los tratamos como si tuevieran una sola habitación, ya que si es una habitación privada,\n",
        "# de hotel o compartida, es una habitación y una casa o apartamento puede ser de una sola habitación\n",
        "X['bedrooms'] = X['bedrooms'].fillna(1)"
      ],
      "execution_count": 12,
      "outputs": []
    },
    {
      "cell_type": "code",
      "metadata": {
        "id": "JEhu7qk3JmSS"
      },
      "source": [
        "# Eliminamos la columna bathrooms, ya que no hay ningún valor\n",
        "X = X.drop(['bathrooms_text'], axis=1)\n",
        "# X = X.drop(['bathrooms'], axis=1)"
      ],
      "execution_count": 13,
      "outputs": []
    },
    {
      "cell_type": "code",
      "metadata": {
        "id": "WNeXHFQksfsO"
      },
      "source": [
        "#  Heating, Air conditioning, pool, beachfront\n",
        "X['pool'] = X.amenities.apply(lambda x: x.replace('\"','')).apply(lambda x: 1 if 'Pool' in x[1:-1].split(', ') else 0)\n",
        "X['air_conditioning'] = X.amenities.apply(lambda x: x.replace('\"','')).apply(lambda x: 1 if 'Air conditioning' in x[1:-1].split(', ') else 0)\n",
        "# X['beachfront'] = X.amenities.apply(lambda x: x.replace('\"','')).apply(lambda x: 1 if 'Beachfront' in x[1:-1].split(', ') else 0)"
      ],
      "execution_count": 14,
      "outputs": []
    },
    {
      "cell_type": "code",
      "metadata": {
        "colab": {
          "base_uri": "https://localhost:8080/",
          "height": 300
        },
        "id": "eeFgNGChJlrD",
        "outputId": "ee0bdce8-e5f2-4d3e-e6f9-2d3a4e616450"
      },
      "source": [
        "X.describe()"
      ],
      "execution_count": 15,
      "outputs": [
        {
          "output_type": "execute_result",
          "data": {
            "text/html": [
              "<div>\n",
              "<style scoped>\n",
              "    .dataframe tbody tr th:only-of-type {\n",
              "        vertical-align: middle;\n",
              "    }\n",
              "\n",
              "    .dataframe tbody tr th {\n",
              "        vertical-align: top;\n",
              "    }\n",
              "\n",
              "    .dataframe thead th {\n",
              "        text-align: right;\n",
              "    }\n",
              "</style>\n",
              "<table border=\"1\" class=\"dataframe\">\n",
              "  <thead>\n",
              "    <tr style=\"text-align: right;\">\n",
              "      <th></th>\n",
              "      <th>latitude</th>\n",
              "      <th>longitude</th>\n",
              "      <th>accommodates</th>\n",
              "      <th>bathrooms</th>\n",
              "      <th>bedrooms</th>\n",
              "      <th>price</th>\n",
              "      <th>pool</th>\n",
              "      <th>air_conditioning</th>\n",
              "    </tr>\n",
              "  </thead>\n",
              "  <tbody>\n",
              "    <tr>\n",
              "      <th>count</th>\n",
              "      <td>17608.000000</td>\n",
              "      <td>17608.000000</td>\n",
              "      <td>17608.000000</td>\n",
              "      <td>17608.000000</td>\n",
              "      <td>17608.000000</td>\n",
              "      <td>17608.000000</td>\n",
              "      <td>17608.000000</td>\n",
              "      <td>17608.000000</td>\n",
              "    </tr>\n",
              "    <tr>\n",
              "      <th>mean</th>\n",
              "      <td>39.657597</td>\n",
              "      <td>2.994115</td>\n",
              "      <td>5.857962</td>\n",
              "      <td>2.288988</td>\n",
              "      <td>2.922478</td>\n",
              "      <td>244.383561</td>\n",
              "      <td>0.660268</td>\n",
              "      <td>0.714675</td>\n",
              "    </tr>\n",
              "    <tr>\n",
              "      <th>std</th>\n",
              "      <td>0.165577</td>\n",
              "      <td>0.246129</td>\n",
              "      <td>2.727737</td>\n",
              "      <td>1.363187</td>\n",
              "      <td>1.527826</td>\n",
              "      <td>409.958169</td>\n",
              "      <td>0.473632</td>\n",
              "      <td>0.451582</td>\n",
              "    </tr>\n",
              "    <tr>\n",
              "      <th>min</th>\n",
              "      <td>39.301970</td>\n",
              "      <td>2.346500</td>\n",
              "      <td>0.000000</td>\n",
              "      <td>0.000000</td>\n",
              "      <td>1.000000</td>\n",
              "      <td>0.000000</td>\n",
              "      <td>0.000000</td>\n",
              "      <td>0.000000</td>\n",
              "    </tr>\n",
              "    <tr>\n",
              "      <th>25%</th>\n",
              "      <td>39.543433</td>\n",
              "      <td>2.796892</td>\n",
              "      <td>4.000000</td>\n",
              "      <td>1.000000</td>\n",
              "      <td>2.000000</td>\n",
              "      <td>110.000000</td>\n",
              "      <td>0.000000</td>\n",
              "      <td>0.000000</td>\n",
              "    </tr>\n",
              "    <tr>\n",
              "      <th>50%</th>\n",
              "      <td>39.670285</td>\n",
              "      <td>3.047310</td>\n",
              "      <td>6.000000</td>\n",
              "      <td>2.000000</td>\n",
              "      <td>3.000000</td>\n",
              "      <td>179.000000</td>\n",
              "      <td>1.000000</td>\n",
              "      <td>1.000000</td>\n",
              "    </tr>\n",
              "    <tr>\n",
              "      <th>75%</th>\n",
              "      <td>39.797413</td>\n",
              "      <td>3.145215</td>\n",
              "      <td>8.000000</td>\n",
              "      <td>3.000000</td>\n",
              "      <td>4.000000</td>\n",
              "      <td>275.000000</td>\n",
              "      <td>1.000000</td>\n",
              "      <td>1.000000</td>\n",
              "    </tr>\n",
              "    <tr>\n",
              "      <th>max</th>\n",
              "      <td>39.930650</td>\n",
              "      <td>3.475520</td>\n",
              "      <td>16.000000</td>\n",
              "      <td>32.000000</td>\n",
              "      <td>40.000000</td>\n",
              "      <td>20736.000000</td>\n",
              "      <td>1.000000</td>\n",
              "      <td>1.000000</td>\n",
              "    </tr>\n",
              "  </tbody>\n",
              "</table>\n",
              "</div>"
            ],
            "text/plain": [
              "           latitude     longitude  ...          pool  air_conditioning\n",
              "count  17608.000000  17608.000000  ...  17608.000000      17608.000000\n",
              "mean      39.657597      2.994115  ...      0.660268          0.714675\n",
              "std        0.165577      0.246129  ...      0.473632          0.451582\n",
              "min       39.301970      2.346500  ...      0.000000          0.000000\n",
              "25%       39.543433      2.796892  ...      0.000000          0.000000\n",
              "50%       39.670285      3.047310  ...      1.000000          1.000000\n",
              "75%       39.797413      3.145215  ...      1.000000          1.000000\n",
              "max       39.930650      3.475520  ...      1.000000          1.000000\n",
              "\n",
              "[8 rows x 8 columns]"
            ]
          },
          "metadata": {
            "tags": []
          },
          "execution_count": 15
        }
      ]
    },
    {
      "cell_type": "code",
      "metadata": {
        "colab": {
          "base_uri": "https://localhost:8080/",
          "height": 612
        },
        "id": "MSl0MebgK5vK",
        "outputId": "12fedcca-aa5f-4123-ebff-f89efa02126c"
      },
      "source": [
        "# Ploteamos la variable precio\n",
        "sns.distplot((X['price']), fit=norm);\n",
        "fig = plt.figure()\n",
        "res = stats.probplot(X['price'], plot=plt)"
      ],
      "execution_count": 16,
      "outputs": [
        {
          "output_type": "stream",
          "text": [
            "/usr/local/lib/python3.6/dist-packages/seaborn/distributions.py:2557: FutureWarning: `distplot` is a deprecated function and will be removed in a future version. Please adapt your code to use either `displot` (a figure-level function with similar flexibility) or `histplot` (an axes-level function for histograms).\n",
            "  warnings.warn(msg, FutureWarning)\n"
          ],
          "name": "stderr"
        },
        {
          "output_type": "display_data",
          "data": {
            "image/png": "[encoded data removed]",
            "text/plain": [
              "<Figure size 432x288 with 1 Axes>"
            ]
          },
          "metadata": {
            "tags": [],
            "needs_background": "light"
          }
        },
        {
          "output_type": "display_data",
          "data": {
            "image/png": "[encoded data removed]",
            "text/plain": [
              "<Figure size 432x288 with 1 Axes>"
            ]
          },
          "metadata": {
            "tags": [],
            "needs_background": "light"
          }
        }
      ]
    },
    {
      "cell_type": "code",
      "metadata": {
        "colab": {
          "base_uri": "https://localhost:8080/",
          "height": 559
        },
        "id": "7-dyyNgaK52u",
        "outputId": "122d0840-4843-448b-fe27-7ea1812c7d36"
      },
      "source": [
        "# correlation matrix\n",
        "f, ax = plt.subplots(figsize = (12, 9))\n",
        "sns.heatmap(X.corr(),annot = False, vmax=.8)"
      ],
      "execution_count": 17,
      "outputs": [
        {
          "output_type": "execute_result",
          "data": {
            "text/plain": [
              "<matplotlib.axes._subplots.AxesSubplot at 0x7efcda80ce80>"
            ]
          },
          "metadata": {
            "tags": []
          },
          "execution_count": 17
        },
        {
          "output_type": "display_data",
          "data": {
            "image/png": "[encoded data removed]",
            "text/plain": [
              "<Figure size 864x648 with 2 Axes>"
            ]
          },
          "metadata": {
            "tags": [],
            "needs_background": "light"
          }
        }
      ]
    },
    {
      "cell_type": "markdown",
      "metadata": {
        "id": "nx_4yV7_hvP0"
      },
      "source": [
        "Las variables que más correlacionadas con el precio son personas, baños y habitaciones."
      ]
    },
    {
      "cell_type": "code",
      "metadata": {
        "colab": {
          "base_uri": "https://localhost:8080/",
          "height": 206
        },
        "id": "wloW5B8bD_Gb",
        "outputId": "d24ba84c-a4e1-4047-b157-c7e8a01244bc"
      },
      "source": [
        "X.head()"
      ],
      "execution_count": 18,
      "outputs": [
        {
          "output_type": "execute_result",
          "data": {
            "text/html": [
              "<div>\n",
              "<style scoped>\n",
              "    .dataframe tbody tr th:only-of-type {\n",
              "        vertical-align: middle;\n",
              "    }\n",
              "\n",
              "    .dataframe tbody tr th {\n",
              "        vertical-align: top;\n",
              "    }\n",
              "\n",
              "    .dataframe thead th {\n",
              "        text-align: right;\n",
              "    }\n",
              "</style>\n",
              "<table border=\"1\" class=\"dataframe\">\n",
              "  <thead>\n",
              "    <tr style=\"text-align: right;\">\n",
              "      <th></th>\n",
              "      <th>neighbourhood_cleansed</th>\n",
              "      <th>latitude</th>\n",
              "      <th>longitude</th>\n",
              "      <th>property_type</th>\n",
              "      <th>room_type</th>\n",
              "      <th>accommodates</th>\n",
              "      <th>bathrooms</th>\n",
              "      <th>bedrooms</th>\n",
              "      <th>amenities</th>\n",
              "      <th>price</th>\n",
              "      <th>pool</th>\n",
              "      <th>air_conditioning</th>\n",
              "    </tr>\n",
              "  </thead>\n",
              "  <tbody>\n",
              "    <tr>\n",
              "      <th>0</th>\n",
              "      <td>Calvià</td>\n",
              "      <td>39.51888</td>\n",
              "      <td>2.48182</td>\n",
              "      <td>Entire apartment</td>\n",
              "      <td>Entire home/apt</td>\n",
              "      <td>2</td>\n",
              "      <td>1.0</td>\n",
              "      <td>1.0</td>\n",
              "      <td>[\"Oven\", \"Wifi\", \"Coffee maker\", \"Dishes and s...</td>\n",
              "      <td>89.0</td>\n",
              "      <td>1</td>\n",
              "      <td>1</td>\n",
              "    </tr>\n",
              "    <tr>\n",
              "      <th>1</th>\n",
              "      <td>Santa Margalida</td>\n",
              "      <td>39.76347</td>\n",
              "      <td>3.16255</td>\n",
              "      <td>Entire house</td>\n",
              "      <td>Entire home/apt</td>\n",
              "      <td>8</td>\n",
              "      <td>3.0</td>\n",
              "      <td>4.0</td>\n",
              "      <td>[\"First aid kit\", \"Hair dryer\", \"Iron\", \"Washe...</td>\n",
              "      <td>175.0</td>\n",
              "      <td>0</td>\n",
              "      <td>1</td>\n",
              "    </tr>\n",
              "    <tr>\n",
              "      <th>2</th>\n",
              "      <td>Maria de la Salut</td>\n",
              "      <td>39.66044</td>\n",
              "      <td>3.07165</td>\n",
              "      <td>Entire townhouse</td>\n",
              "      <td>Entire home/apt</td>\n",
              "      <td>6</td>\n",
              "      <td>2.0</td>\n",
              "      <td>3.0</td>\n",
              "      <td>[\"Smoke alarm\", \"Oven\", \"Wifi\", \"Garden or bac...</td>\n",
              "      <td>140.0</td>\n",
              "      <td>1</td>\n",
              "      <td>1</td>\n",
              "    </tr>\n",
              "    <tr>\n",
              "      <th>3</th>\n",
              "      <td>Sant Llorenç des Cardassar</td>\n",
              "      <td>39.61600</td>\n",
              "      <td>3.30121</td>\n",
              "      <td>Entire villa</td>\n",
              "      <td>Entire home/apt</td>\n",
              "      <td>4</td>\n",
              "      <td>1.0</td>\n",
              "      <td>2.0</td>\n",
              "      <td>[\"Pool\", \"Free parking on premises\", \"Air cond...</td>\n",
              "      <td>200.0</td>\n",
              "      <td>1</td>\n",
              "      <td>1</td>\n",
              "    </tr>\n",
              "    <tr>\n",
              "      <th>4</th>\n",
              "      <td>Palma de Mallorca</td>\n",
              "      <td>39.56478</td>\n",
              "      <td>2.60333</td>\n",
              "      <td>Private room in apartment</td>\n",
              "      <td>Private room</td>\n",
              "      <td>2</td>\n",
              "      <td>1.0</td>\n",
              "      <td>1.0</td>\n",
              "      <td>[\"Pool\", \"Washer\", \"Air conditioning\", \"Kitche...</td>\n",
              "      <td>110.0</td>\n",
              "      <td>1</td>\n",
              "      <td>1</td>\n",
              "    </tr>\n",
              "  </tbody>\n",
              "</table>\n",
              "</div>"
            ],
            "text/plain": [
              "       neighbourhood_cleansed  latitude  ...  pool air_conditioning\n",
              "0                      Calvià  39.51888  ...     1                1\n",
              "1             Santa Margalida  39.76347  ...     0                1\n",
              "2           Maria de la Salut  39.66044  ...     1                1\n",
              "3  Sant Llorenç des Cardassar  39.61600  ...     1                1\n",
              "4           Palma de Mallorca  39.56478  ...     1                1\n",
              "\n",
              "[5 rows x 12 columns]"
            ]
          },
          "metadata": {
            "tags": []
          },
          "execution_count": 18
        }
      ]
    },
    {
      "cell_type": "code",
      "metadata": {
        "id": "nOvPxyXAABAZ"
      },
      "source": [
        "# Dataframe para realizar la predicción, donde eliminamos las coordenas, el tipo de propiedad y las amenities\n",
        "X_aux = X.drop(['latitude', 'longitude', 'property_type', 'amenities'], axis=1)"
      ],
      "execution_count": 19,
      "outputs": []
    },
    {
      "cell_type": "code",
      "metadata": {
        "colab": {
          "base_uri": "https://localhost:8080/",
          "height": 612
        },
        "id": "biEiYmqeFmSH",
        "outputId": "f5a9b92b-7d94-43c9-df5d-efd123a58fb3"
      },
      "source": [
        "# Ploteamos el precio después de aplicar una transformación logarítmica\n",
        "sns.distplot((np.log1p(X_aux.price)), fit=norm);\n",
        "fig = plt.figure()\n",
        "res = stats.probplot(np.log1p(X_aux.price), plot=plt)"
      ],
      "execution_count": 20,
      "outputs": [
        {
          "output_type": "stream",
          "text": [
            "/usr/local/lib/python3.6/dist-packages/seaborn/distributions.py:2557: FutureWarning: `distplot` is a deprecated function and will be removed in a future version. Please adapt your code to use either `displot` (a figure-level function with similar flexibility) or `histplot` (an axes-level function for histograms).\n",
            "  warnings.warn(msg, FutureWarning)\n"
          ],
          "name": "stderr"
        },
        {
          "output_type": "display_data",
          "data": {
            "image/png": "[encoded data removed]",
            "text/plain": [
              "<Figure size 432x288 with 1 Axes>"
            ]
          },
          "metadata": {
            "tags": [],
            "needs_background": "light"
          }
        },
        {
          "output_type": "display_data",
          "data": {
            "image/png": "[encoded data removed]",
            "text/plain": [
              "<Figure size 432x288 with 1 Axes>"
            ]
          },
          "metadata": {
            "tags": [],
            "needs_background": "light"
          }
        }
      ]
    },
    {
      "cell_type": "markdown",
      "metadata": {
        "id": "Jq5EagpMiI97"
      },
      "source": [
        "Vemos que se ajusta más a la pendiente del precio."
      ]
    },
    {
      "cell_type": "code",
      "metadata": {
        "colab": {
          "base_uri": "https://localhost:8080/",
          "height": 300
        },
        "id": "WwQI8DDSK95H",
        "outputId": "f051b539-2264-406c-f37b-e7f29c581897"
      },
      "source": [
        "X_aux.describe()"
      ],
      "execution_count": 21,
      "outputs": [
        {
          "output_type": "execute_result",
          "data": {
            "text/html": [
              "<div>\n",
              "<style scoped>\n",
              "    .dataframe tbody tr th:only-of-type {\n",
              "        vertical-align: middle;\n",
              "    }\n",
              "\n",
              "    .dataframe tbody tr th {\n",
              "        vertical-align: top;\n",
              "    }\n",
              "\n",
              "    .dataframe thead th {\n",
              "        text-align: right;\n",
              "    }\n",
              "</style>\n",
              "<table border=\"1\" class=\"dataframe\">\n",
              "  <thead>\n",
              "    <tr style=\"text-align: right;\">\n",
              "      <th></th>\n",
              "      <th>accommodates</th>\n",
              "      <th>bathrooms</th>\n",
              "      <th>bedrooms</th>\n",
              "      <th>price</th>\n",
              "      <th>pool</th>\n",
              "      <th>air_conditioning</th>\n",
              "    </tr>\n",
              "  </thead>\n",
              "  <tbody>\n",
              "    <tr>\n",
              "      <th>count</th>\n",
              "      <td>17608.000000</td>\n",
              "      <td>17608.000000</td>\n",
              "      <td>17608.000000</td>\n",
              "      <td>17608.000000</td>\n",
              "      <td>17608.000000</td>\n",
              "      <td>17608.000000</td>\n",
              "    </tr>\n",
              "    <tr>\n",
              "      <th>mean</th>\n",
              "      <td>5.857962</td>\n",
              "      <td>2.288988</td>\n",
              "      <td>2.922478</td>\n",
              "      <td>244.383561</td>\n",
              "      <td>0.660268</td>\n",
              "      <td>0.714675</td>\n",
              "    </tr>\n",
              "    <tr>\n",
              "      <th>std</th>\n",
              "      <td>2.727737</td>\n",
              "      <td>1.363187</td>\n",
              "      <td>1.527826</td>\n",
              "      <td>409.958169</td>\n",
              "      <td>0.473632</td>\n",
              "      <td>0.451582</td>\n",
              "    </tr>\n",
              "    <tr>\n",
              "      <th>min</th>\n",
              "      <td>0.000000</td>\n",
              "      <td>0.000000</td>\n",
              "      <td>1.000000</td>\n",
              "      <td>0.000000</td>\n",
              "      <td>0.000000</td>\n",
              "      <td>0.000000</td>\n",
              "    </tr>\n",
              "    <tr>\n",
              "      <th>25%</th>\n",
              "      <td>4.000000</td>\n",
              "      <td>1.000000</td>\n",
              "      <td>2.000000</td>\n",
              "      <td>110.000000</td>\n",
              "      <td>0.000000</td>\n",
              "      <td>0.000000</td>\n",
              "    </tr>\n",
              "    <tr>\n",
              "      <th>50%</th>\n",
              "      <td>6.000000</td>\n",
              "      <td>2.000000</td>\n",
              "      <td>3.000000</td>\n",
              "      <td>179.000000</td>\n",
              "      <td>1.000000</td>\n",
              "      <td>1.000000</td>\n",
              "    </tr>\n",
              "    <tr>\n",
              "      <th>75%</th>\n",
              "      <td>8.000000</td>\n",
              "      <td>3.000000</td>\n",
              "      <td>4.000000</td>\n",
              "      <td>275.000000</td>\n",
              "      <td>1.000000</td>\n",
              "      <td>1.000000</td>\n",
              "    </tr>\n",
              "    <tr>\n",
              "      <th>max</th>\n",
              "      <td>16.000000</td>\n",
              "      <td>32.000000</td>\n",
              "      <td>40.000000</td>\n",
              "      <td>20736.000000</td>\n",
              "      <td>1.000000</td>\n",
              "      <td>1.000000</td>\n",
              "    </tr>\n",
              "  </tbody>\n",
              "</table>\n",
              "</div>"
            ],
            "text/plain": [
              "       accommodates     bathrooms  ...          pool  air_conditioning\n",
              "count  17608.000000  17608.000000  ...  17608.000000      17608.000000\n",
              "mean       5.857962      2.288988  ...      0.660268          0.714675\n",
              "std        2.727737      1.363187  ...      0.473632          0.451582\n",
              "min        0.000000      0.000000  ...      0.000000          0.000000\n",
              "25%        4.000000      1.000000  ...      0.000000          0.000000\n",
              "50%        6.000000      2.000000  ...      1.000000          1.000000\n",
              "75%        8.000000      3.000000  ...      1.000000          1.000000\n",
              "max       16.000000     32.000000  ...      1.000000          1.000000\n",
              "\n",
              "[8 rows x 6 columns]"
            ]
          },
          "metadata": {
            "tags": []
          },
          "execution_count": 21
        }
      ]
    },
    {
      "cell_type": "markdown",
      "metadata": {
        "id": "LEqbB5kBiOlM"
      },
      "source": [
        "Creamos nuestro custom transformer"
      ]
    },
    {
      "cell_type": "code",
      "metadata": {
        "id": "l9e03xwoK5-m"
      },
      "source": [
        "### Transformer custom\n",
        "\n",
        "class SelectColumns(TransformerMixin):\n",
        "    def __init__(self, columns: list) -> pd.DataFrame:\n",
        "        if not isinstance(columns, list):\n",
        "            raise ValueError('Specify the columns into a list')\n",
        "        self.columns = columns\n",
        "    def fit(self, X, y=None): # we do not need to specify the target in the transformer. We leave it as optional arg for consistency\n",
        "        return self\n",
        "    def transform(self, X):\n",
        "        return X[self.columns]\n",
        "    \n",
        "class DropColumns(TransformerMixin):\n",
        "    def __init__(self, columns: list) -> pd.DataFrame:\n",
        "        if not isinstance(columns, list):\n",
        "            raise ValueError('Specify the columns into a list')\n",
        "        self.columns = columns\n",
        "    def fit(self, X, y=None):\n",
        "        return self\n",
        "    def transform(self, X):\n",
        "        return X.drop(self.columns, axis=1)"
      ],
      "execution_count": 22,
      "outputs": []
    },
    {
      "cell_type": "markdown",
      "metadata": {
        "id": "BbcAGYlSiWkc"
      },
      "source": [
        "Seleccionamos las variables categóricas y le aplicamos one hot encoding"
      ]
    },
    {
      "cell_type": "code",
      "metadata": {
        "id": "Fr_sfUWFK6Gj"
      },
      "source": [
        "select_col_step = ('select', SelectColumns(['neighbourhood_cleansed', 'room_type']))\n",
        "\n",
        "one_hot_step_neighbourhood = ('neighbourhood_one_hot', OneHotEncoder(sparse=False))\n",
        "one_hot_step_room = ('room_one_hot', OneHotEncoder(sparse=False))\n",
        "\n",
        "cat_pipe_steps = [select_col_step, one_hot_step_neighbourhood, one_hot_step_room]\n",
        "\n",
        "cat_pipe = Pipeline(cat_pipe_steps)"
      ],
      "execution_count": 23,
      "outputs": []
    },
    {
      "cell_type": "markdown",
      "metadata": {
        "id": "GwmRsBz9ijoq"
      },
      "source": [
        "Ahora aplicamos una transformación polinomial y estandarizamos los datos"
      ]
    },
    {
      "cell_type": "code",
      "metadata": {
        "id": "BJy25QT-K6dR"
      },
      "source": [
        "drop_column_step = ('drop_column', DropColumns(['neighbourhood_cleansed', 'room_type']))\n",
        "# drop_column_step = ('drop_column', DropColumns(['neighbourhood_cleansed', 'room_type', 'pool', 'air_conditioning']))\n",
        "\n",
        "poly_step = ('poly', PolynomialFeatures(2,  interaction_only=True))\n",
        "\n",
        "scaler_step = ('scaler', StandardScaler())\n",
        "\n",
        "num_pipe_steps = [drop_column_step, poly_step, scaler_step]\n",
        "\n",
        "num_pipe = Pipeline(num_pipe_steps)"
      ],
      "execution_count": 24,
      "outputs": []
    },
    {
      "cell_type": "markdown",
      "metadata": {
        "id": "ohFOSZiRjNsk"
      },
      "source": [
        "Unimos la transformación de las variables categóricas y numéricas"
      ]
    },
    {
      "cell_type": "code",
      "metadata": {
        "id": "Y73W_aGBRF9D"
      },
      "source": [
        "transformer_list = [('num_pipe', num_pipe),\n",
        "                    ('cat_pipe', cat_pipe)]\n",
        "\n",
        "full_pipe = FeatureUnion(transformer_list=transformer_list)"
      ],
      "execution_count": 25,
      "outputs": []
    },
    {
      "cell_type": "code",
      "metadata": {
        "id": "kWousmF9RF6J"
      },
      "source": [
        "# Separamos entre datos de entrenamiento y test\n",
        "X_train, X_test, y_train, y_test = train_test_split(X_aux.drop(['price'], axis=1), np.log1p(X_aux.price), test_size=0.2)"
      ],
      "execution_count": 26,
      "outputs": []
    },
    {
      "cell_type": "code",
      "metadata": {
        "id": "SJp4mGL8RF0T"
      },
      "source": [
        "# Instanciamos el modelo\n",
        "reg = RandomForestRegressor(max_depth=100)"
      ],
      "execution_count": 27,
      "outputs": []
    },
    {
      "cell_type": "code",
      "metadata": {
        "id": "4-oSSSnZRFxS"
      },
      "source": [
        "# Transformamos los datos de entrenamiento\n",
        "X_train_trans = full_pipe.fit_transform(X_train)"
      ],
      "execution_count": 28,
      "outputs": []
    },
    {
      "cell_type": "code",
      "metadata": {
        "colab": {
          "base_uri": "https://localhost:8080/"
        },
        "id": "U7gwkJE5RFuW",
        "outputId": "a2bcaff6-d45a-4b7b-fc21-84f5803a1f07"
      },
      "source": [
        "# Entrenamos el modelo\n",
        "reg.fit(X_train_trans, y_train)"
      ],
      "execution_count": 29,
      "outputs": [
        {
          "output_type": "execute_result",
          "data": {
            "text/plain": [
              "RandomForestRegressor(bootstrap=True, ccp_alpha=0.0, criterion='mse',\n",
              "                      max_depth=100, max_features='auto', max_leaf_nodes=None,\n",
              "                      max_samples=None, min_impurity_decrease=0.0,\n",
              "                      min_impurity_split=None, min_samples_leaf=1,\n",
              "                      min_samples_split=2, min_weight_fraction_leaf=0.0,\n",
              "                      n_estimators=100, n_jobs=None, oob_score=False,\n",
              "                      random_state=None, verbose=0, warm_start=False)"
            ]
          },
          "metadata": {
            "tags": []
          },
          "execution_count": 29
        }
      ]
    },
    {
      "cell_type": "code",
      "metadata": {
        "id": "-6EIS5p7RFrI"
      },
      "source": [
        "# Realizamos la predicción tanto con los datos de entrenamiento como con los de test, para después compararlos\n",
        "y_train_pred_pipe = reg.predict(X_train_trans)\n",
        "y_test_pred_pipe = reg.predict(full_pipe.transform(X_test))"
      ],
      "execution_count": 30,
      "outputs": []
    },
    {
      "cell_type": "code",
      "metadata": {
        "colab": {
          "base_uri": "https://localhost:8080/"
        },
        "id": "aEE2YEorRFoS",
        "outputId": "20a77ebf-badc-4a46-c720-66da31bc1f45"
      },
      "source": [
        "from sklearn.metrics import mean_absolute_error, mean_squared_error\n",
        "\n",
        "print('Mean absolute error: {e} $'.format(e=round(mean_absolute_error(y_test, y_test_pred_pipe), 2)))"
      ],
      "execution_count": 31,
      "outputs": [
        {
          "output_type": "stream",
          "text": [
            "Mean absolute error: 0.35 $\n"
          ],
          "name": "stdout"
        }
      ]
    },
    {
      "cell_type": "code",
      "metadata": {
        "colab": {
          "base_uri": "https://localhost:8080/"
        },
        "id": "T0h05NEjMWda",
        "outputId": "9ae9910a-b6fa-4022-8158-69c3c24a397d"
      },
      "source": [
        "def RMSE(y_true, y_pred):\n",
        "  return np.sqrt(mean_squared_error(y_true, y_pred))\n",
        "\n",
        "in_sample_error = RMSE(y_train, y_train_pred_pipe)\n",
        "out_sample_error = RMSE(y_test, y_test_pred_pipe)\n",
        "\n",
        "print('In sample error: {e} $'.format(e=round(in_sample_error, 2)))\n",
        "print('In sample error: {e} $'.format(e= round(out_sample_error, 2)))"
      ],
      "execution_count": 32,
      "outputs": [
        {
          "output_type": "stream",
          "text": [
            "In sample error: 0.37 $\n",
            "In sample error: 0.48 $\n"
          ],
          "name": "stdout"
        }
      ]
    },
    {
      "cell_type": "code",
      "metadata": {
        "id": "z_ZS_zHdRFkl"
      },
      "source": [
        "bins = y_test.unique().shape[0]"
      ],
      "execution_count": 33,
      "outputs": []
    },
    {
      "cell_type": "code",
      "metadata": {
        "colab": {
          "base_uri": "https://localhost:8080/",
          "height": 279
        },
        "id": "bx83353dRFdg",
        "outputId": "8ddf3b63-a38a-4afd-fa82-14627c2c1ef9"
      },
      "source": [
        "plt.hist(y_test, alpha=0.5, bins=bins, label='Real')\n",
        "plt.hist(y_test_pred_pipe, alpha=0.5, bins=bins, label='Predicted')\n",
        "plt.xlabel('rings')\n",
        "plt.legend(loc='best')\n",
        "plt.show()"
      ],
      "execution_count": 34,
      "outputs": [
        {
          "output_type": "display_data",
          "data": {
            "image/png": "[encoded data removed]",
            "text/plain": [
              "<Figure size 432x288 with 1 Axes>"
            ]
          },
          "metadata": {
            "tags": [],
            "needs_background": "light"
          }
        }
      ]
    },
    {
      "cell_type": "code",
      "metadata": {
        "colab": {
          "base_uri": "https://localhost:8080/",
          "height": 296
        },
        "id": "MaG9mRFhRFU7",
        "outputId": "3132d828-ca5b-4e66-9505-e41fab9d5649"
      },
      "source": [
        "f, ax = plt.subplots()\n",
        "\n",
        "ax.scatter(y_test, y_test_pred_pipe)\n",
        "ax.set_xlabel('Real Value')\n",
        "ax.set_ylabel('Predicted Value')"
      ],
      "execution_count": 35,
      "outputs": [
        {
          "output_type": "execute_result",
          "data": {
            "text/plain": [
              "Text(0, 0.5, 'Predicted Value')"
            ]
          },
          "metadata": {
            "tags": []
          },
          "execution_count": 35
        },
        {
          "output_type": "display_data",
          "data": {
            "image/png": "[encoded data removed]",
            "text/plain": [
              "<Figure size 432x288 with 1 Axes>"
            ]
          },
          "metadata": {
            "tags": [],
            "needs_background": "light"
          }
        }
      ]
    }
  ]
}